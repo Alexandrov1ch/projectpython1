{
  "metadata": {
    "language_info": {
      "name": ""
    },
    "kernelspec": {
      "name": "python",
      "display_name": "Python (Pyodide)",
      "language": "python"
    }
  },
  "nbformat_minor": 4,
  "nbformat": 4,
  "cells": [
    {
      "cell_type": "code",
      "source": "from bs4 import BeautifulSoup as bs\nimport requests\nimport json\nimport numpy as np\nimport time\nimport pandas as pd\nimport requests\nimport re\n\n",
      "metadata": {
        "trusted": true
      },
      "execution_count": null,
      "outputs": []
    },
    {
      "cell_type": "code",
      "source": "page = 1:600\nurl = \" https://aptekamos.ru/tovary?page= \" + str(page)\nr = requests.get(url)\nsoup = bs(r.text, \"html.parser\")\nproduct = soup.find_all(class_='product-name')\nfor pr in product:\nresult_list['product'].append(pr)\nreturn result_list\ndf = pd.DataFrame(data=parse())\ndf.to_csv(FILE_NAME,enc)\nhref = re.findall(\" href=.+>\",str(product))\nprint(href)",
      "metadata": {
        "trusted": true
      },
      "execution_count": null,
      "outputs": []
    },
    {
      "cell_type": "code",
      "source": "",
      "metadata": {},
      "execution_count": null,
      "outputs": []
    }
  ]
}
{
  "metadata": {
    "language_info": {
      "name": ""
    },
    "kernelspec": {
      "name": "python",
      "display_name": "Python (Pyodide)",
      "language": "python"
    }
  },
  "nbformat_minor": 4,
  "nbformat": 4,
  "cells": [
    {
      "cell_type": "code",
      "source": "from bs4 import BeautifulSoup  as bs\nimport requests\nimport json\nimport numpy as np\nimport time\nimport pandas as pd\nimport requests\nimport re\n\nfor page in range (1, 501):\n  url = \"https://aptekamos.ru/tovary?page=\" + str(page)\n  r = requests.get(url)\n  parsedlink = bs(r.text, \"html.parser\")\n  product = parsedlink.find_all(class_='product-name')\n  \n  # Сначала достанем название продукта\n  \n  ",
      "metadata": {
        "trusted": true
      },
      "execution_count": null,
      "outputs": []
    }
  ]
}
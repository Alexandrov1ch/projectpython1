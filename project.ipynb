{
  "metadata": {
    "language_info": {
      "name": ""
    },
    "kernelspec": {
      "name": "python",
      "display_name": "Python (Pyodide)",
      "language": "python"
    }
  },
  "nbformat_minor": 4,
  "nbformat": 4,
  "cells": [
    {
      "cell_type": "code",
      "source": "from bs4 import BeautifulSoup  as bs\nimport requests\nimport json\nimport numpy as np\nimport time\nimport pandas as pd\nimport requests\nimport re\n\nfor page in range (1, 501):\n  url = \"https://aptekamos.ru/tovary?page=\" + str(page)\n  r = requests.get(url)\n  parsedlink = bs(r.text, \"html.parser\")\n  product = parsedlink.find_all(class_='product-name')\n  \n  # Сначала достанем название продукта. Проблема возникает на 12 строчке.\n  \nfrom bs4 import BeautifulSoup  as bs\nimport requests\nimport json\nimport numpy as np\nimport time\nimport pandas as pd\nimport requests\nimport re\n\n\nurl = 'https://www.geeksforgeeks.org/python-programming-language/'\nr = requests.get(url)\n\n# Parsing the HTML\nparsedlink = bs(r.text, \"html.parser\")\nprint(parsedlink.title)\n  \n  # На данном сайте все работает. Но проблема возникает именно с https://aptekamos.ru/tovary.Вероятно стоит поменять проек по возможности\n  \n  ",
      "metadata": {
        "trusted": true
      },
      "execution_count": null,
      "outputs": []
    }
  ]
}